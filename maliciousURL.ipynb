{
 "cells": [
  {
   "cell_type": "markdown",
   "metadata": {},
   "source": [
    "# Detect Malicious URL"
   ]
  },
  {
   "cell_type": "markdown",
   "metadata": {},
   "source": [
    "## Importing required libraries"
   ]
  },
  {
   "cell_type": "code",
   "execution_count": 1,
   "metadata": {},
   "outputs": [],
   "source": [
    "import numpy as np\n",
    "import pandas as pd\n",
    "import matplotlib.pyplot as plt\n",
    "%matplotlib inline\n",
    "import seaborn as sns\n",
    "from sklearn.model_selection import cross_val_score\n",
    "from sklearn.neural_network import MLPClassifier\n",
    "from sklearn.preprocessing import LabelEncoder\n",
    "from sklearn.pipeline import make_pipeline\n",
    "from sklearn.feature_selection import chi2, SelectKBest\n",
    "from sklearn.preprocessing import StandardScaler\n",
    "from imblearn.over_sampling import SMOTE\n",
    "from sklearn.svm import SVC\n",
    "from sklearn.naive_bayes import GaussianNB\n",
    "from sklearn.ensemble import RandomForestClassifier\n",
    "from sklearn.metrics import accuracy_score, f1_score, precision_score"
   ]
  },
  {
   "cell_type": "markdown",
   "metadata": {},
   "source": [
    "## Importing malicious url data data"
   ]
  },
  {
   "cell_type": "code",
   "execution_count": 2,
   "metadata": {},
   "outputs": [
    {
     "data": {
      "text/html": [
       "<div>\n",
       "<style scoped>\n",
       "    .dataframe tbody tr th:only-of-type {\n",
       "        vertical-align: middle;\n",
       "    }\n",
       "\n",
       "    .dataframe tbody tr th {\n",
       "        vertical-align: top;\n",
       "    }\n",
       "\n",
       "    .dataframe thead th {\n",
       "        text-align: right;\n",
       "    }\n",
       "</style>\n",
       "<table border=\"1\" class=\"dataframe\">\n",
       "  <thead>\n",
       "    <tr style=\"text-align: right;\">\n",
       "      <th></th>\n",
       "      <th>Unnamed: 0</th>\n",
       "      <th>url</th>\n",
       "      <th>url_len</th>\n",
       "      <th>ip_add</th>\n",
       "      <th>geo_loc</th>\n",
       "      <th>tld</th>\n",
       "      <th>who_is</th>\n",
       "      <th>https</th>\n",
       "      <th>js_len</th>\n",
       "      <th>js_obf_len</th>\n",
       "      <th>content</th>\n",
       "      <th>label</th>\n",
       "    </tr>\n",
       "  </thead>\n",
       "  <tbody>\n",
       "    <tr>\n",
       "      <th>0</th>\n",
       "      <td>0</td>\n",
       "      <td>http://members.tripod.com/russiastation/</td>\n",
       "      <td>40</td>\n",
       "      <td>42.77.221.155</td>\n",
       "      <td>Taiwan</td>\n",
       "      <td>com</td>\n",
       "      <td>complete</td>\n",
       "      <td>yes</td>\n",
       "      <td>58.0</td>\n",
       "      <td>0.0</td>\n",
       "      <td>Named themselves charged particles in a manly ...</td>\n",
       "      <td>good</td>\n",
       "    </tr>\n",
       "    <tr>\n",
       "      <th>1</th>\n",
       "      <td>1</td>\n",
       "      <td>http://www.ddj.com/cpp/184403822</td>\n",
       "      <td>32</td>\n",
       "      <td>3.211.202.180</td>\n",
       "      <td>United States</td>\n",
       "      <td>com</td>\n",
       "      <td>complete</td>\n",
       "      <td>yes</td>\n",
       "      <td>52.5</td>\n",
       "      <td>0.0</td>\n",
       "      <td>And filipino field \\n \\n \\n \\n \\n \\n \\n \\n the...</td>\n",
       "      <td>good</td>\n",
       "    </tr>\n",
       "    <tr>\n",
       "      <th>2</th>\n",
       "      <td>2</td>\n",
       "      <td>http://www.naef-usa.com/</td>\n",
       "      <td>24</td>\n",
       "      <td>24.232.54.41</td>\n",
       "      <td>Argentina</td>\n",
       "      <td>com</td>\n",
       "      <td>complete</td>\n",
       "      <td>yes</td>\n",
       "      <td>103.5</td>\n",
       "      <td>0.0</td>\n",
       "      <td>Took in cognitivism, whose adherents argue for...</td>\n",
       "      <td>good</td>\n",
       "    </tr>\n",
       "    <tr>\n",
       "      <th>3</th>\n",
       "      <td>3</td>\n",
       "      <td>http://www.ff-b2b.de/</td>\n",
       "      <td>21</td>\n",
       "      <td>147.22.38.45</td>\n",
       "      <td>United States</td>\n",
       "      <td>de</td>\n",
       "      <td>incomplete</td>\n",
       "      <td>no</td>\n",
       "      <td>720.0</td>\n",
       "      <td>532.8</td>\n",
       "      <td>fire cumshot sodomize footaction tortur failed...</td>\n",
       "      <td>bad</td>\n",
       "    </tr>\n",
       "    <tr>\n",
       "      <th>4</th>\n",
       "      <td>4</td>\n",
       "      <td>http://us.imdb.com/title/tt0176269/</td>\n",
       "      <td>35</td>\n",
       "      <td>205.30.239.85</td>\n",
       "      <td>United States</td>\n",
       "      <td>com</td>\n",
       "      <td>complete</td>\n",
       "      <td>yes</td>\n",
       "      <td>46.5</td>\n",
       "      <td>0.0</td>\n",
       "      <td>Levant, also monsignor georges. In 1800, lists...</td>\n",
       "      <td>good</td>\n",
       "    </tr>\n",
       "    <tr>\n",
       "      <th>5</th>\n",
       "      <td>5</td>\n",
       "      <td>http://efilmcritic.com/hbs.cgi?movie=311</td>\n",
       "      <td>40</td>\n",
       "      <td>8.28.167.23</td>\n",
       "      <td>United States</td>\n",
       "      <td>com</td>\n",
       "      <td>complete</td>\n",
       "      <td>yes</td>\n",
       "      <td>39.5</td>\n",
       "      <td>0.0</td>\n",
       "      <td>Signals. \\n territorial jurisdictions. common....</td>\n",
       "      <td>good</td>\n",
       "    </tr>\n",
       "    <tr>\n",
       "      <th>6</th>\n",
       "      <td>6</td>\n",
       "      <td>http://christian.net/</td>\n",
       "      <td>21</td>\n",
       "      <td>125.223.123.231</td>\n",
       "      <td>China</td>\n",
       "      <td>net</td>\n",
       "      <td>complete</td>\n",
       "      <td>yes</td>\n",
       "      <td>136.0</td>\n",
       "      <td>0.0</td>\n",
       "      <td>Temperature variations, quantities is often ov...</td>\n",
       "      <td>good</td>\n",
       "    </tr>\n",
       "    <tr>\n",
       "      <th>7</th>\n",
       "      <td>7</td>\n",
       "      <td>http://www.indsource.com</td>\n",
       "      <td>24</td>\n",
       "      <td>208.169.193.185</td>\n",
       "      <td>United States</td>\n",
       "      <td>com</td>\n",
       "      <td>complete</td>\n",
       "      <td>yes</td>\n",
       "      <td>51.0</td>\n",
       "      <td>0.0</td>\n",
       "      <td>Were; an optical physics; astrophysics; and ap...</td>\n",
       "      <td>good</td>\n",
       "    </tr>\n",
       "    <tr>\n",
       "      <th>8</th>\n",
       "      <td>8</td>\n",
       "      <td>http://www.greatestescapes.com</td>\n",
       "      <td>30</td>\n",
       "      <td>32.130.119.43</td>\n",
       "      <td>United States</td>\n",
       "      <td>com</td>\n",
       "      <td>complete</td>\n",
       "      <td>yes</td>\n",
       "      <td>183.0</td>\n",
       "      <td>0.0</td>\n",
       "      <td>Working with run a. U.s., in their interpretat...</td>\n",
       "      <td>good</td>\n",
       "    </tr>\n",
       "    <tr>\n",
       "      <th>9</th>\n",
       "      <td>9</td>\n",
       "      <td>http://hdalter.tripod.com/</td>\n",
       "      <td>26</td>\n",
       "      <td>81.16.157.227</td>\n",
       "      <td>Austria</td>\n",
       "      <td>com</td>\n",
       "      <td>complete</td>\n",
       "      <td>yes</td>\n",
       "      <td>79.0</td>\n",
       "      <td>0.0</td>\n",
       "      <td>Cases, as places averaging. Oncoming traffic, ...</td>\n",
       "      <td>good</td>\n",
       "    </tr>\n",
       "  </tbody>\n",
       "</table>\n",
       "</div>"
      ],
      "text/plain": [
       "   Unnamed: 0                                       url  url_len  \\\n",
       "0           0  http://members.tripod.com/russiastation/       40   \n",
       "1           1          http://www.ddj.com/cpp/184403822       32   \n",
       "2           2                  http://www.naef-usa.com/       24   \n",
       "3           3                     http://www.ff-b2b.de/       21   \n",
       "4           4       http://us.imdb.com/title/tt0176269/       35   \n",
       "5           5  http://efilmcritic.com/hbs.cgi?movie=311       40   \n",
       "6           6                     http://christian.net/       21   \n",
       "7           7                  http://www.indsource.com       24   \n",
       "8           8            http://www.greatestescapes.com       30   \n",
       "9           9                http://hdalter.tripod.com/       26   \n",
       "\n",
       "            ip_add        geo_loc  tld      who_is https  js_len  js_obf_len  \\\n",
       "0    42.77.221.155         Taiwan  com    complete   yes    58.0         0.0   \n",
       "1    3.211.202.180  United States  com    complete   yes    52.5         0.0   \n",
       "2     24.232.54.41      Argentina  com    complete   yes   103.5         0.0   \n",
       "3     147.22.38.45  United States   de  incomplete    no   720.0       532.8   \n",
       "4    205.30.239.85  United States  com    complete   yes    46.5         0.0   \n",
       "5      8.28.167.23  United States  com    complete   yes    39.5         0.0   \n",
       "6  125.223.123.231          China  net    complete   yes   136.0         0.0   \n",
       "7  208.169.193.185  United States  com    complete   yes    51.0         0.0   \n",
       "8    32.130.119.43  United States  com    complete   yes   183.0         0.0   \n",
       "9    81.16.157.227        Austria  com    complete   yes    79.0         0.0   \n",
       "\n",
       "                                             content label  \n",
       "0  Named themselves charged particles in a manly ...  good  \n",
       "1  And filipino field \\n \\n \\n \\n \\n \\n \\n \\n the...  good  \n",
       "2  Took in cognitivism, whose adherents argue for...  good  \n",
       "3  fire cumshot sodomize footaction tortur failed...   bad  \n",
       "4  Levant, also monsignor georges. In 1800, lists...  good  \n",
       "5  Signals. \\n territorial jurisdictions. common....  good  \n",
       "6  Temperature variations, quantities is often ov...  good  \n",
       "7  Were; an optical physics; astrophysics; and ap...  good  \n",
       "8  Working with run a. U.s., in their interpretat...  good  \n",
       "9  Cases, as places averaging. Oncoming traffic, ...  good  "
      ]
     },
     "execution_count": 2,
     "metadata": {},
     "output_type": "execute_result"
    }
   ],
   "source": [
    "train_data = pd.read_csv(\"Webpages_Classification_train_data.csv/Webpages_Classification_train_data.csv\")\n",
    "train_data.head(10)"
   ]
  },
  {
   "cell_type": "code",
   "execution_count": 3,
   "metadata": {},
   "outputs": [
    {
     "data": {
      "text/html": [
       "<div>\n",
       "<style scoped>\n",
       "    .dataframe tbody tr th:only-of-type {\n",
       "        vertical-align: middle;\n",
       "    }\n",
       "\n",
       "    .dataframe tbody tr th {\n",
       "        vertical-align: top;\n",
       "    }\n",
       "\n",
       "    .dataframe thead th {\n",
       "        text-align: right;\n",
       "    }\n",
       "</style>\n",
       "<table border=\"1\" class=\"dataframe\">\n",
       "  <thead>\n",
       "    <tr style=\"text-align: right;\">\n",
       "      <th></th>\n",
       "      <th>Unnamed: 0</th>\n",
       "      <th>url</th>\n",
       "      <th>url_len</th>\n",
       "      <th>ip_add</th>\n",
       "      <th>geo_loc</th>\n",
       "      <th>tld</th>\n",
       "      <th>who_is</th>\n",
       "      <th>https</th>\n",
       "      <th>js_len</th>\n",
       "      <th>js_obf_len</th>\n",
       "      <th>content</th>\n",
       "      <th>label</th>\n",
       "    </tr>\n",
       "  </thead>\n",
       "  <tbody>\n",
       "    <tr>\n",
       "      <th>0</th>\n",
       "      <td>0</td>\n",
       "      <td>http://www.dutchthewiz.com/freeware/</td>\n",
       "      <td>36</td>\n",
       "      <td>175.67.214.68</td>\n",
       "      <td>China</td>\n",
       "      <td>com</td>\n",
       "      <td>complete</td>\n",
       "      <td>yes</td>\n",
       "      <td>38.5</td>\n",
       "      <td>0.0</td>\n",
       "      <td>Decay suggest in 1315.. Current constitution, ...</td>\n",
       "      <td>good</td>\n",
       "    </tr>\n",
       "    <tr>\n",
       "      <th>1</th>\n",
       "      <td>1</td>\n",
       "      <td>http://www.collectiblejewels.com</td>\n",
       "      <td>32</td>\n",
       "      <td>188.120.171.121</td>\n",
       "      <td>Sweden</td>\n",
       "      <td>com</td>\n",
       "      <td>incomplete</td>\n",
       "      <td>yes</td>\n",
       "      <td>187.0</td>\n",
       "      <td>0.0</td>\n",
       "      <td>breast addict nudger whash ky darkie catholics...</td>\n",
       "      <td>good</td>\n",
       "    </tr>\n",
       "    <tr>\n",
       "      <th>2</th>\n",
       "      <td>2</td>\n",
       "      <td>http://www.deadlinedata.com</td>\n",
       "      <td>27</td>\n",
       "      <td>193.51.170.1</td>\n",
       "      <td>France</td>\n",
       "      <td>com</td>\n",
       "      <td>complete</td>\n",
       "      <td>yes</td>\n",
       "      <td>31.0</td>\n",
       "      <td>0.0</td>\n",
       "      <td>Nato's military stoic philosophy says to accep...</td>\n",
       "      <td>good</td>\n",
       "    </tr>\n",
       "    <tr>\n",
       "      <th>3</th>\n",
       "      <td>3</td>\n",
       "      <td>http://www.mil.fi/maavoimat/kalustoesittely/00...</td>\n",
       "      <td>56</td>\n",
       "      <td>13.237.35.44</td>\n",
       "      <td>Australia</td>\n",
       "      <td>fi</td>\n",
       "      <td>complete</td>\n",
       "      <td>yes</td>\n",
       "      <td>152.0</td>\n",
       "      <td>0.0</td>\n",
       "      <td>Night being newton. according to the formation...</td>\n",
       "      <td>good</td>\n",
       "    </tr>\n",
       "    <tr>\n",
       "      <th>4</th>\n",
       "      <td>4</td>\n",
       "      <td>http://www.avclub.com/content/node/24539</td>\n",
       "      <td>40</td>\n",
       "      <td>220.193.62.89</td>\n",
       "      <td>China</td>\n",
       "      <td>com</td>\n",
       "      <td>complete</td>\n",
       "      <td>yes</td>\n",
       "      <td>150.0</td>\n",
       "      <td>0.0</td>\n",
       "      <td>34 per two children. if we exercise simple pra...</td>\n",
       "      <td>good</td>\n",
       "    </tr>\n",
       "    <tr>\n",
       "      <th>5</th>\n",
       "      <td>5</td>\n",
       "      <td>http://www.yellowstone.net/baptist</td>\n",
       "      <td>34</td>\n",
       "      <td>13.122.80.132</td>\n",
       "      <td>United States</td>\n",
       "      <td>net</td>\n",
       "      <td>complete</td>\n",
       "      <td>yes</td>\n",
       "      <td>140.5</td>\n",
       "      <td>0.0</td>\n",
       "      <td>Own desert include interviews, first-hand obse...</td>\n",
       "      <td>good</td>\n",
       "    </tr>\n",
       "    <tr>\n",
       "      <th>6</th>\n",
       "      <td>6</td>\n",
       "      <td>http://www.eteamz.com/varavens/</td>\n",
       "      <td>31</td>\n",
       "      <td>67.240.38.208</td>\n",
       "      <td>United States</td>\n",
       "      <td>com</td>\n",
       "      <td>complete</td>\n",
       "      <td>yes</td>\n",
       "      <td>72.0</td>\n",
       "      <td>0.0</td>\n",
       "      <td>The trial ions when dissolved in. Include mars...</td>\n",
       "      <td>good</td>\n",
       "    </tr>\n",
       "    <tr>\n",
       "      <th>7</th>\n",
       "      <td>7</td>\n",
       "      <td>http://www.beckettonfilm.com/</td>\n",
       "      <td>29</td>\n",
       "      <td>135.41.22.180</td>\n",
       "      <td>United States</td>\n",
       "      <td>com</td>\n",
       "      <td>complete</td>\n",
       "      <td>yes</td>\n",
       "      <td>60.5</td>\n",
       "      <td>0.0</td>\n",
       "      <td>Region with consequently, it. Northwestern edg...</td>\n",
       "      <td>good</td>\n",
       "    </tr>\n",
       "    <tr>\n",
       "      <th>8</th>\n",
       "      <td>8</td>\n",
       "      <td>http://www.newedgemanagement.com/</td>\n",
       "      <td>33</td>\n",
       "      <td>90.136.31.203</td>\n",
       "      <td>Sweden</td>\n",
       "      <td>com</td>\n",
       "      <td>complete</td>\n",
       "      <td>yes</td>\n",
       "      <td>108.0</td>\n",
       "      <td>0.0</td>\n",
       "      <td>In 1953, the higher emotional intelligence. Or...</td>\n",
       "      <td>good</td>\n",
       "    </tr>\n",
       "    <tr>\n",
       "      <th>9</th>\n",
       "      <td>9</td>\n",
       "      <td>http://www.fourdir.com/tubatulabal.htm</td>\n",
       "      <td>38</td>\n",
       "      <td>120.101.209.144</td>\n",
       "      <td>Taiwan</td>\n",
       "      <td>com</td>\n",
       "      <td>complete</td>\n",
       "      <td>yes</td>\n",
       "      <td>38.5</td>\n",
       "      <td>0.0</td>\n",
       "      <td>Christian power hope and healing in the epic f...</td>\n",
       "      <td>good</td>\n",
       "    </tr>\n",
       "  </tbody>\n",
       "</table>\n",
       "</div>"
      ],
      "text/plain": [
       "   Unnamed: 0                                                url  url_len  \\\n",
       "0           0               http://www.dutchthewiz.com/freeware/       36   \n",
       "1           1                   http://www.collectiblejewels.com       32   \n",
       "2           2                        http://www.deadlinedata.com       27   \n",
       "3           3  http://www.mil.fi/maavoimat/kalustoesittely/00...       56   \n",
       "4           4           http://www.avclub.com/content/node/24539       40   \n",
       "5           5                 http://www.yellowstone.net/baptist       34   \n",
       "6           6                    http://www.eteamz.com/varavens/       31   \n",
       "7           7                      http://www.beckettonfilm.com/       29   \n",
       "8           8                  http://www.newedgemanagement.com/       33   \n",
       "9           9             http://www.fourdir.com/tubatulabal.htm       38   \n",
       "\n",
       "            ip_add        geo_loc  tld      who_is https  js_len  js_obf_len  \\\n",
       "0    175.67.214.68          China  com    complete   yes    38.5         0.0   \n",
       "1  188.120.171.121         Sweden  com  incomplete   yes   187.0         0.0   \n",
       "2     193.51.170.1         France  com    complete   yes    31.0         0.0   \n",
       "3     13.237.35.44      Australia   fi    complete   yes   152.0         0.0   \n",
       "4    220.193.62.89          China  com    complete   yes   150.0         0.0   \n",
       "5    13.122.80.132  United States  net    complete   yes   140.5         0.0   \n",
       "6    67.240.38.208  United States  com    complete   yes    72.0         0.0   \n",
       "7    135.41.22.180  United States  com    complete   yes    60.5         0.0   \n",
       "8    90.136.31.203         Sweden  com    complete   yes   108.0         0.0   \n",
       "9  120.101.209.144         Taiwan  com    complete   yes    38.5         0.0   \n",
       "\n",
       "                                             content label  \n",
       "0  Decay suggest in 1315.. Current constitution, ...  good  \n",
       "1  breast addict nudger whash ky darkie catholics...  good  \n",
       "2  Nato's military stoic philosophy says to accep...  good  \n",
       "3  Night being newton. according to the formation...  good  \n",
       "4  34 per two children. if we exercise simple pra...  good  \n",
       "5  Own desert include interviews, first-hand obse...  good  \n",
       "6  The trial ions when dissolved in. Include mars...  good  \n",
       "7  Region with consequently, it. Northwestern edg...  good  \n",
       "8  In 1953, the higher emotional intelligence. Or...  good  \n",
       "9  Christian power hope and healing in the epic f...  good  "
      ]
     },
     "execution_count": 3,
     "metadata": {},
     "output_type": "execute_result"
    }
   ],
   "source": [
    "test_data = pd.read_csv(\"Webpages_Classification_test_data.csv/Webpages_Classification_test_data.csv\")\n",
    "test_data.head(10)"
   ]
  },
  {
   "cell_type": "markdown",
   "metadata": {},
   "source": [
    "## Exploratory Data analysis"
   ]
  },
  {
   "cell_type": "code",
   "execution_count": 4,
   "metadata": {
    "scrolled": true
   },
   "outputs": [
    {
     "data": {
      "text/html": [
       "<div>\n",
       "<style scoped>\n",
       "    .dataframe tbody tr th:only-of-type {\n",
       "        vertical-align: middle;\n",
       "    }\n",
       "\n",
       "    .dataframe tbody tr th {\n",
       "        vertical-align: top;\n",
       "    }\n",
       "\n",
       "    .dataframe thead th {\n",
       "        text-align: right;\n",
       "    }\n",
       "</style>\n",
       "<table border=\"1\" class=\"dataframe\">\n",
       "  <thead>\n",
       "    <tr style=\"text-align: right;\">\n",
       "      <th></th>\n",
       "      <th>Unnamed: 0</th>\n",
       "      <th>url_len</th>\n",
       "      <th>js_len</th>\n",
       "      <th>js_obf_len</th>\n",
       "    </tr>\n",
       "  </thead>\n",
       "  <tbody>\n",
       "    <tr>\n",
       "      <th>count</th>\n",
       "      <td>1.200000e+06</td>\n",
       "      <td>1.200000e+06</td>\n",
       "      <td>1.200000e+06</td>\n",
       "      <td>1.200000e+06</td>\n",
       "    </tr>\n",
       "    <tr>\n",
       "      <th>mean</th>\n",
       "      <td>5.999995e+05</td>\n",
       "      <td>3.585337e+01</td>\n",
       "      <td>1.191463e+02</td>\n",
       "      <td>8.153424e+00</td>\n",
       "    </tr>\n",
       "    <tr>\n",
       "      <th>std</th>\n",
       "      <td>3.464103e+05</td>\n",
       "      <td>1.441089e+01</td>\n",
       "      <td>9.046649e+01</td>\n",
       "      <td>6.001398e+01</td>\n",
       "    </tr>\n",
       "    <tr>\n",
       "      <th>min</th>\n",
       "      <td>0.000000e+00</td>\n",
       "      <td>1.200000e+01</td>\n",
       "      <td>0.000000e+00</td>\n",
       "      <td>0.000000e+00</td>\n",
       "    </tr>\n",
       "    <tr>\n",
       "      <th>25%</th>\n",
       "      <td>2.999998e+05</td>\n",
       "      <td>2.600000e+01</td>\n",
       "      <td>6.650000e+01</td>\n",
       "      <td>0.000000e+00</td>\n",
       "    </tr>\n",
       "    <tr>\n",
       "      <th>50%</th>\n",
       "      <td>5.999995e+05</td>\n",
       "      <td>3.200000e+01</td>\n",
       "      <td>1.120000e+02</td>\n",
       "      <td>0.000000e+00</td>\n",
       "    </tr>\n",
       "    <tr>\n",
       "      <th>75%</th>\n",
       "      <td>8.999992e+05</td>\n",
       "      <td>4.200000e+01</td>\n",
       "      <td>1.580000e+02</td>\n",
       "      <td>0.000000e+00</td>\n",
       "    </tr>\n",
       "    <tr>\n",
       "      <th>max</th>\n",
       "      <td>1.199999e+06</td>\n",
       "      <td>7.210000e+02</td>\n",
       "      <td>8.541000e+02</td>\n",
       "      <td>8.028540e+02</td>\n",
       "    </tr>\n",
       "  </tbody>\n",
       "</table>\n",
       "</div>"
      ],
      "text/plain": [
       "         Unnamed: 0       url_len        js_len    js_obf_len\n",
       "count  1.200000e+06  1.200000e+06  1.200000e+06  1.200000e+06\n",
       "mean   5.999995e+05  3.585337e+01  1.191463e+02  8.153424e+00\n",
       "std    3.464103e+05  1.441089e+01  9.046649e+01  6.001398e+01\n",
       "min    0.000000e+00  1.200000e+01  0.000000e+00  0.000000e+00\n",
       "25%    2.999998e+05  2.600000e+01  6.650000e+01  0.000000e+00\n",
       "50%    5.999995e+05  3.200000e+01  1.120000e+02  0.000000e+00\n",
       "75%    8.999992e+05  4.200000e+01  1.580000e+02  0.000000e+00\n",
       "max    1.199999e+06  7.210000e+02  8.541000e+02  8.028540e+02"
      ]
     },
     "execution_count": 4,
     "metadata": {},
     "output_type": "execute_result"
    }
   ],
   "source": [
    "# checking statistical information of training data\n",
    "train_data.describe()"
   ]
  },
  {
   "cell_type": "code",
   "execution_count": 5,
   "metadata": {
    "scrolled": true
   },
   "outputs": [
    {
     "data": {
      "text/html": [
       "<div>\n",
       "<style scoped>\n",
       "    .dataframe tbody tr th:only-of-type {\n",
       "        vertical-align: middle;\n",
       "    }\n",
       "\n",
       "    .dataframe tbody tr th {\n",
       "        vertical-align: top;\n",
       "    }\n",
       "\n",
       "    .dataframe thead th {\n",
       "        text-align: right;\n",
       "    }\n",
       "</style>\n",
       "<table border=\"1\" class=\"dataframe\">\n",
       "  <thead>\n",
       "    <tr style=\"text-align: right;\">\n",
       "      <th></th>\n",
       "      <th>Unnamed: 0</th>\n",
       "      <th>url_len</th>\n",
       "      <th>js_len</th>\n",
       "      <th>js_obf_len</th>\n",
       "    </tr>\n",
       "  </thead>\n",
       "  <tbody>\n",
       "    <tr>\n",
       "      <th>count</th>\n",
       "      <td>361934.000000</td>\n",
       "      <td>361934.000000</td>\n",
       "      <td>361934.000000</td>\n",
       "      <td>361934.000000</td>\n",
       "    </tr>\n",
       "    <tr>\n",
       "      <th>mean</th>\n",
       "      <td>180966.500000</td>\n",
       "      <td>35.847472</td>\n",
       "      <td>118.917216</td>\n",
       "      <td>8.085418</td>\n",
       "    </tr>\n",
       "    <tr>\n",
       "      <th>std</th>\n",
       "      <td>104481.490502</td>\n",
       "      <td>14.413012</td>\n",
       "      <td>89.995030</td>\n",
       "      <td>60.131536</td>\n",
       "    </tr>\n",
       "    <tr>\n",
       "      <th>min</th>\n",
       "      <td>0.000000</td>\n",
       "      <td>13.000000</td>\n",
       "      <td>0.000000</td>\n",
       "      <td>0.000000</td>\n",
       "    </tr>\n",
       "    <tr>\n",
       "      <th>25%</th>\n",
       "      <td>90483.250000</td>\n",
       "      <td>26.000000</td>\n",
       "      <td>66.000000</td>\n",
       "      <td>0.000000</td>\n",
       "    </tr>\n",
       "    <tr>\n",
       "      <th>50%</th>\n",
       "      <td>180966.500000</td>\n",
       "      <td>32.000000</td>\n",
       "      <td>112.000000</td>\n",
       "      <td>0.000000</td>\n",
       "    </tr>\n",
       "    <tr>\n",
       "      <th>75%</th>\n",
       "      <td>271449.750000</td>\n",
       "      <td>42.000000</td>\n",
       "      <td>158.000000</td>\n",
       "      <td>0.000000</td>\n",
       "    </tr>\n",
       "    <tr>\n",
       "      <th>max</th>\n",
       "      <td>361933.000000</td>\n",
       "      <td>620.000000</td>\n",
       "      <td>854.100000</td>\n",
       "      <td>802.854000</td>\n",
       "    </tr>\n",
       "  </tbody>\n",
       "</table>\n",
       "</div>"
      ],
      "text/plain": [
       "          Unnamed: 0        url_len         js_len     js_obf_len\n",
       "count  361934.000000  361934.000000  361934.000000  361934.000000\n",
       "mean   180966.500000      35.847472     118.917216       8.085418\n",
       "std    104481.490502      14.413012      89.995030      60.131536\n",
       "min         0.000000      13.000000       0.000000       0.000000\n",
       "25%     90483.250000      26.000000      66.000000       0.000000\n",
       "50%    180966.500000      32.000000     112.000000       0.000000\n",
       "75%    271449.750000      42.000000     158.000000       0.000000\n",
       "max    361933.000000     620.000000     854.100000     802.854000"
      ]
     },
     "execution_count": 5,
     "metadata": {},
     "output_type": "execute_result"
    }
   ],
   "source": [
    "# checking statistical information of test data\n",
    "test_data.describe()"
   ]
  },
  {
   "cell_type": "code",
   "execution_count": 6,
   "metadata": {
    "scrolled": true
   },
   "outputs": [
    {
     "data": {
      "text/html": [
       "<div>\n",
       "<style scoped>\n",
       "    .dataframe tbody tr th:only-of-type {\n",
       "        vertical-align: middle;\n",
       "    }\n",
       "\n",
       "    .dataframe tbody tr th {\n",
       "        vertical-align: top;\n",
       "    }\n",
       "\n",
       "    .dataframe thead th {\n",
       "        text-align: right;\n",
       "    }\n",
       "</style>\n",
       "<table border=\"1\" class=\"dataframe\">\n",
       "  <thead>\n",
       "    <tr style=\"text-align: right;\">\n",
       "      <th></th>\n",
       "      <th>Unnamed: 0</th>\n",
       "      <th>url_len</th>\n",
       "      <th>js_len</th>\n",
       "      <th>js_obf_len</th>\n",
       "    </tr>\n",
       "  </thead>\n",
       "  <tbody>\n",
       "    <tr>\n",
       "      <th>count</th>\n",
       "      <td>1.200000e+06</td>\n",
       "      <td>1.200000e+06</td>\n",
       "      <td>1.200000e+06</td>\n",
       "      <td>1.200000e+06</td>\n",
       "    </tr>\n",
       "    <tr>\n",
       "      <th>mean</th>\n",
       "      <td>5.999995e+05</td>\n",
       "      <td>3.585337e+01</td>\n",
       "      <td>1.191463e+02</td>\n",
       "      <td>8.153424e+00</td>\n",
       "    </tr>\n",
       "    <tr>\n",
       "      <th>std</th>\n",
       "      <td>3.464103e+05</td>\n",
       "      <td>1.441089e+01</td>\n",
       "      <td>9.046649e+01</td>\n",
       "      <td>6.001398e+01</td>\n",
       "    </tr>\n",
       "    <tr>\n",
       "      <th>min</th>\n",
       "      <td>0.000000e+00</td>\n",
       "      <td>1.200000e+01</td>\n",
       "      <td>0.000000e+00</td>\n",
       "      <td>0.000000e+00</td>\n",
       "    </tr>\n",
       "    <tr>\n",
       "      <th>25%</th>\n",
       "      <td>2.999998e+05</td>\n",
       "      <td>2.600000e+01</td>\n",
       "      <td>6.650000e+01</td>\n",
       "      <td>0.000000e+00</td>\n",
       "    </tr>\n",
       "    <tr>\n",
       "      <th>50%</th>\n",
       "      <td>5.999995e+05</td>\n",
       "      <td>3.200000e+01</td>\n",
       "      <td>1.120000e+02</td>\n",
       "      <td>0.000000e+00</td>\n",
       "    </tr>\n",
       "    <tr>\n",
       "      <th>75%</th>\n",
       "      <td>8.999992e+05</td>\n",
       "      <td>4.200000e+01</td>\n",
       "      <td>1.580000e+02</td>\n",
       "      <td>0.000000e+00</td>\n",
       "    </tr>\n",
       "    <tr>\n",
       "      <th>max</th>\n",
       "      <td>1.199999e+06</td>\n",
       "      <td>7.210000e+02</td>\n",
       "      <td>8.541000e+02</td>\n",
       "      <td>8.028540e+02</td>\n",
       "    </tr>\n",
       "  </tbody>\n",
       "</table>\n",
       "</div>"
      ],
      "text/plain": [
       "         Unnamed: 0       url_len        js_len    js_obf_len\n",
       "count  1.200000e+06  1.200000e+06  1.200000e+06  1.200000e+06\n",
       "mean   5.999995e+05  3.585337e+01  1.191463e+02  8.153424e+00\n",
       "std    3.464103e+05  1.441089e+01  9.046649e+01  6.001398e+01\n",
       "min    0.000000e+00  1.200000e+01  0.000000e+00  0.000000e+00\n",
       "25%    2.999998e+05  2.600000e+01  6.650000e+01  0.000000e+00\n",
       "50%    5.999995e+05  3.200000e+01  1.120000e+02  0.000000e+00\n",
       "75%    8.999992e+05  4.200000e+01  1.580000e+02  0.000000e+00\n",
       "max    1.199999e+06  7.210000e+02  8.541000e+02  8.028540e+02"
      ]
     },
     "execution_count": 6,
     "metadata": {},
     "output_type": "execute_result"
    }
   ],
   "source": [
    "# checking statistical information of training data\n",
    "train_data.describe()"
   ]
  },
  {
   "cell_type": "code",
   "execution_count": 7,
   "metadata": {},
   "outputs": [
    {
     "name": "stdout",
     "output_type": "stream",
     "text": [
      "<class 'pandas.core.frame.DataFrame'>\n",
      "RangeIndex: 1200000 entries, 0 to 1199999\n",
      "Data columns (total 12 columns):\n",
      " #   Column      Non-Null Count    Dtype  \n",
      "---  ------      --------------    -----  \n",
      " 0   Unnamed: 0  1200000 non-null  int64  \n",
      " 1   url         1200000 non-null  object \n",
      " 2   url_len     1200000 non-null  int64  \n",
      " 3   ip_add      1200000 non-null  object \n",
      " 4   geo_loc     1200000 non-null  object \n",
      " 5   tld         1200000 non-null  object \n",
      " 6   who_is      1200000 non-null  object \n",
      " 7   https       1200000 non-null  object \n",
      " 8   js_len      1200000 non-null  float64\n",
      " 9   js_obf_len  1200000 non-null  float64\n",
      " 10  content     1200000 non-null  object \n",
      " 11  label       1200000 non-null  object \n",
      "dtypes: float64(2), int64(2), object(8)\n",
      "memory usage: 109.9+ MB\n"
     ]
    }
   ],
   "source": [
    "# Checking training data column types\n",
    "train_data.info()"
   ]
  },
  {
   "cell_type": "code",
   "execution_count": 8,
   "metadata": {},
   "outputs": [
    {
     "name": "stdout",
     "output_type": "stream",
     "text": [
      "<class 'pandas.core.frame.DataFrame'>\n",
      "RangeIndex: 361934 entries, 0 to 361933\n",
      "Data columns (total 12 columns):\n",
      " #   Column      Non-Null Count   Dtype  \n",
      "---  ------      --------------   -----  \n",
      " 0   Unnamed: 0  361934 non-null  int64  \n",
      " 1   url         361934 non-null  object \n",
      " 2   url_len     361934 non-null  int64  \n",
      " 3   ip_add      361934 non-null  object \n",
      " 4   geo_loc     361934 non-null  object \n",
      " 5   tld         361934 non-null  object \n",
      " 6   who_is      361934 non-null  object \n",
      " 7   https       361934 non-null  object \n",
      " 8   js_len      361934 non-null  float64\n",
      " 9   js_obf_len  361934 non-null  float64\n",
      " 10  content     361934 non-null  object \n",
      " 11  label       361934 non-null  object \n",
      "dtypes: float64(2), int64(2), object(8)\n",
      "memory usage: 33.1+ MB\n"
     ]
    }
   ],
   "source": [
    "# Checking test data column types\n",
    "test_data.info()"
   ]
  },
  {
   "cell_type": "code",
   "execution_count": 9,
   "metadata": {},
   "outputs": [
    {
     "data": {
      "text/plain": [
       "good    1172747\n",
       "bad       27253\n",
       "Name: label, dtype: int64"
      ]
     },
     "execution_count": 9,
     "metadata": {},
     "output_type": "execute_result"
    }
   ],
   "source": [
    "#Total number of malicious and non-malicious in training data\n",
    "train_data['label'].value_counts()"
   ]
  },
  {
   "cell_type": "code",
   "execution_count": 10,
   "metadata": {},
   "outputs": [
    {
     "data": {
      "text/plain": [
       "(array([1172747.,       0.,       0.,       0.,       0.,       0.,\n",
       "              0.,       0.,       0.,   27253.]),\n",
       " array([0. , 0.1, 0.2, 0.3, 0.4, 0.5, 0.6, 0.7, 0.8, 0.9, 1. ]),\n",
       " <a list of 10 Patch objects>)"
      ]
     },
     "execution_count": 10,
     "metadata": {},
     "output_type": "execute_result"
    },
    {
     "data": {
      "image/png": "[encoded data removed]",
      "text/plain": [
       "<Figure size 576x576 with 1 Axes>"
      ]
     },
     "metadata": {
      "needs_background": "light"
     },
     "output_type": "display_data"
    }
   ],
   "source": [
    "# Plot distribution of classes using Histograms on train set\n",
    "plt.figure(figsize =(8,8))\n",
    "plt.hist(train_data.label)  "
   ]
  },
  {
   "cell_type": "code",
   "execution_count": 11,
   "metadata": {},
   "outputs": [
    {
     "data": {
      "text/plain": [
       "good    353872\n",
       "bad       8062\n",
       "Name: label, dtype: int64"
      ]
     },
     "execution_count": 11,
     "metadata": {},
     "output_type": "execute_result"
    }
   ],
   "source": [
    "#Total number of malicious and non-malicious in test data\n",
    "test_data['label'].value_counts()"
   ]
  },
  {
   "cell_type": "code",
   "execution_count": 12,
   "metadata": {},
   "outputs": [
    {
     "data": {
      "text/plain": [
       "(array([353872.,      0.,      0.,      0.,      0.,      0.,      0.,\n",
       "             0.,      0.,   8062.]),\n",
       " array([0. , 0.1, 0.2, 0.3, 0.4, 0.5, 0.6, 0.7, 0.8, 0.9, 1. ]),\n",
       " <a list of 10 Patch objects>)"
      ]
     },
     "execution_count": 12,
     "metadata": {},
     "output_type": "execute_result"
    },
    {
     "data": {
      "image/png": "[encoded data removed]",
      "text/plain": [
       "<Figure size 576x576 with 1 Axes>"
      ]
     },
     "metadata": {
      "needs_background": "light"
     },
     "output_type": "display_data"
    }
   ],
   "source": [
    "# Plot distribution of classes using Histograms on test data\n",
    "plt.figure(figsize =(8,8))\n",
    "plt.hist(test_data.label)  "
   ]
  },
  {
   "cell_type": "code",
   "execution_count": 13,
   "metadata": {},
   "outputs": [
    {
     "name": "stdout",
     "output_type": "stream",
     "text": [
      "Unnamed: 0    0\n",
      "url           0\n",
      "url_len       0\n",
      "ip_add        0\n",
      "geo_loc       0\n",
      "tld           0\n",
      "who_is        0\n",
      "https         0\n",
      "js_len        0\n",
      "js_obf_len    0\n",
      "content       0\n",
      "label         0\n",
      "dtype: int64\n"
     ]
    }
   ],
   "source": [
    "# Checking for missing values in training data\n",
    "print(train_data.isnull().sum()) "
   ]
  },
  {
   "cell_type": "code",
   "execution_count": 14,
   "metadata": {},
   "outputs": [
    {
     "name": "stdout",
     "output_type": "stream",
     "text": [
      "Unnamed: 0    0\n",
      "url           0\n",
      "url_len       0\n",
      "ip_add        0\n",
      "geo_loc       0\n",
      "tld           0\n",
      "who_is        0\n",
      "https         0\n",
      "js_len        0\n",
      "js_obf_len    0\n",
      "content       0\n",
      "label         0\n",
      "dtype: int64\n"
     ]
    }
   ],
   "source": [
    "# Checking for missing values in test data\n",
    "print(test_data.isnull().sum()) "
   ]
  },
  {
   "cell_type": "markdown",
   "metadata": {},
   "source": [
    "## Data Preprocessing"
   ]
  },
  {
   "cell_type": "markdown",
   "metadata": {},
   "source": [
    "### Label Encoding"
   ]
  },
  {
   "cell_type": "code",
   "execution_count": 15,
   "metadata": {},
   "outputs": [],
   "source": [
    "# instantiate labelencoder object\n",
    "le = LabelEncoder()"
   ]
  },
  {
   "cell_type": "code",
   "execution_count": 16,
   "metadata": {},
   "outputs": [],
   "source": [
    "# Categorical boolean mask\n",
    "categorical_feature_mask = train_data.dtypes==object\n",
    "# filter categorical columns using mask and turn it into a list\n",
    "categorical_cols = train_data.columns[categorical_feature_mask].tolist()"
   ]
  },
  {
   "cell_type": "code",
   "execution_count": 17,
   "metadata": {},
   "outputs": [
    {
     "data": {
      "text/html": [
       "<div>\n",
       "<style scoped>\n",
       "    .dataframe tbody tr th:only-of-type {\n",
       "        vertical-align: middle;\n",
       "    }\n",
       "\n",
       "    .dataframe tbody tr th {\n",
       "        vertical-align: top;\n",
       "    }\n",
       "\n",
       "    .dataframe thead th {\n",
       "        text-align: right;\n",
       "    }\n",
       "</style>\n",
       "<table border=\"1\" class=\"dataframe\">\n",
       "  <thead>\n",
       "    <tr style=\"text-align: right;\">\n",
       "      <th></th>\n",
       "      <th>url</th>\n",
       "      <th>ip_add</th>\n",
       "      <th>geo_loc</th>\n",
       "      <th>tld</th>\n",
       "      <th>who_is</th>\n",
       "      <th>https</th>\n",
       "      <th>content</th>\n",
       "      <th>label</th>\n",
       "    </tr>\n",
       "  </thead>\n",
       "  <tbody>\n",
       "    <tr>\n",
       "      <th>0</th>\n",
       "      <td>125594</td>\n",
       "      <td>857897</td>\n",
       "      <td>205</td>\n",
       "      <td>195</td>\n",
       "      <td>0</td>\n",
       "      <td>1</td>\n",
       "      <td>654207</td>\n",
       "      <td>1</td>\n",
       "    </tr>\n",
       "    <tr>\n",
       "      <th>1</th>\n",
       "      <td>448679</td>\n",
       "      <td>778604</td>\n",
       "      <td>222</td>\n",
       "      <td>195</td>\n",
       "      <td>0</td>\n",
       "      <td>1</td>\n",
       "      <td>130856</td>\n",
       "      <td>1</td>\n",
       "    </tr>\n",
       "    <tr>\n",
       "      <th>2</th>\n",
       "      <td>815144</td>\n",
       "      <td>746103</td>\n",
       "      <td>9</td>\n",
       "      <td>195</td>\n",
       "      <td>0</td>\n",
       "      <td>1</td>\n",
       "      <td>1021647</td>\n",
       "      <td>1</td>\n",
       "    </tr>\n",
       "    <tr>\n",
       "      <th>3</th>\n",
       "      <td>520571</td>\n",
       "      <td>279927</td>\n",
       "      <td>222</td>\n",
       "      <td>282</td>\n",
       "      <td>1</td>\n",
       "      <td>0</td>\n",
       "      <td>1140810</td>\n",
       "      <td>0</td>\n",
       "    </tr>\n",
       "    <tr>\n",
       "      <th>4</th>\n",
       "      <td>208484</td>\n",
       "      <td>626364</td>\n",
       "      <td>222</td>\n",
       "      <td>195</td>\n",
       "      <td>0</td>\n",
       "      <td>1</td>\n",
       "      <td>580479</td>\n",
       "      <td>1</td>\n",
       "    </tr>\n",
       "    <tr>\n",
       "      <th>5</th>\n",
       "      <td>48821</td>\n",
       "      <td>1082147</td>\n",
       "      <td>222</td>\n",
       "      <td>195</td>\n",
       "      <td>0</td>\n",
       "      <td>1</td>\n",
       "      <td>873553</td>\n",
       "      <td>1</td>\n",
       "    </tr>\n",
       "    <tr>\n",
       "      <th>6</th>\n",
       "      <td>30482</td>\n",
       "      <td>153123</td>\n",
       "      <td>44</td>\n",
       "      <td>828</td>\n",
       "      <td>0</td>\n",
       "      <td>1</td>\n",
       "      <td>935508</td>\n",
       "      <td>1</td>\n",
       "    </tr>\n",
       "    <tr>\n",
       "      <th>7</th>\n",
       "      <td>675467</td>\n",
       "      <td>640712</td>\n",
       "      <td>222</td>\n",
       "      <td>195</td>\n",
       "      <td>0</td>\n",
       "      <td>1</td>\n",
       "      <td>1078609</td>\n",
       "      <td>1</td>\n",
       "    </tr>\n",
       "    <tr>\n",
       "      <th>8</th>\n",
       "      <td>620958</td>\n",
       "      <td>793093</td>\n",
       "      <td>222</td>\n",
       "      <td>195</td>\n",
       "      <td>0</td>\n",
       "      <td>1</td>\n",
       "      <td>1101627</td>\n",
       "      <td>1</td>\n",
       "    </tr>\n",
       "    <tr>\n",
       "      <th>9</th>\n",
       "      <td>82704</td>\n",
       "      <td>1090758</td>\n",
       "      <td>13</td>\n",
       "      <td>195</td>\n",
       "      <td>0</td>\n",
       "      <td>1</td>\n",
       "      <td>243635</td>\n",
       "      <td>1</td>\n",
       "    </tr>\n",
       "  </tbody>\n",
       "</table>\n",
       "</div>"
      ],
      "text/plain": [
       "      url   ip_add  geo_loc  tld  who_is  https  content  label\n",
       "0  125594   857897      205  195       0      1   654207      1\n",
       "1  448679   778604      222  195       0      1   130856      1\n",
       "2  815144   746103        9  195       0      1  1021647      1\n",
       "3  520571   279927      222  282       1      0  1140810      0\n",
       "4  208484   626364      222  195       0      1   580479      1\n",
       "5   48821  1082147      222  195       0      1   873553      1\n",
       "6   30482   153123       44  828       0      1   935508      1\n",
       "7  675467   640712      222  195       0      1  1078609      1\n",
       "8  620958   793093      222  195       0      1  1101627      1\n",
       "9   82704  1090758       13  195       0      1   243635      1"
      ]
     },
     "execution_count": 17,
     "metadata": {},
     "output_type": "execute_result"
    }
   ],
   "source": [
    "# apply le on categorical feature columns\n",
    "train_data[categorical_cols] =train_data[categorical_cols].apply(lambda col: le.fit_transform(col))\n",
    "train_data[categorical_cols].head(10)"
   ]
  },
  {
   "cell_type": "code",
   "execution_count": 18,
   "metadata": {},
   "outputs": [],
   "source": [
    "# Categorical boolean mask\n",
    "categorical_feature_mask = test_data.dtypes==object\n",
    "# filter categorical columns using mask and turn it into a list\n",
    "categorical_cols = test_data.columns[categorical_feature_mask].tolist()"
   ]
  },
  {
   "cell_type": "code",
   "execution_count": 19,
   "metadata": {},
   "outputs": [
    {
     "data": {
      "text/html": [
       "<div>\n",
       "<style scoped>\n",
       "    .dataframe tbody tr th:only-of-type {\n",
       "        vertical-align: middle;\n",
       "    }\n",
       "\n",
       "    .dataframe tbody tr th {\n",
       "        vertical-align: top;\n",
       "    }\n",
       "\n",
       "    .dataframe thead th {\n",
       "        text-align: right;\n",
       "    }\n",
       "</style>\n",
       "<table border=\"1\" class=\"dataframe\">\n",
       "  <thead>\n",
       "    <tr style=\"text-align: right;\">\n",
       "      <th></th>\n",
       "      <th>url</th>\n",
       "      <th>ip_add</th>\n",
       "      <th>geo_loc</th>\n",
       "      <th>tld</th>\n",
       "      <th>who_is</th>\n",
       "      <th>https</th>\n",
       "      <th>content</th>\n",
       "      <th>label</th>\n",
       "    </tr>\n",
       "  </thead>\n",
       "  <tbody>\n",
       "    <tr>\n",
       "      <th>0</th>\n",
       "      <td>145538</td>\n",
       "      <td>134431</td>\n",
       "      <td>41</td>\n",
       "      <td>136</td>\n",
       "      <td>0</td>\n",
       "      <td>1</td>\n",
       "      <td>94045</td>\n",
       "      <td>1</td>\n",
       "    </tr>\n",
       "    <tr>\n",
       "      <th>1</th>\n",
       "      <td>126716</td>\n",
       "      <td>156408</td>\n",
       "      <td>187</td>\n",
       "      <td>136</td>\n",
       "      <td>1</td>\n",
       "      <td>1</td>\n",
       "      <td>338849</td>\n",
       "      <td>1</td>\n",
       "    </tr>\n",
       "    <tr>\n",
       "      <th>2</th>\n",
       "      <td>137849</td>\n",
       "      <td>165756</td>\n",
       "      <td>67</td>\n",
       "      <td>136</td>\n",
       "      <td>0</td>\n",
       "      <td>1</td>\n",
       "      <td>198259</td>\n",
       "      <td>1</td>\n",
       "    </tr>\n",
       "    <tr>\n",
       "      <th>3</th>\n",
       "      <td>241645</td>\n",
       "      <td>52651</td>\n",
       "      <td>11</td>\n",
       "      <td>276</td>\n",
       "      <td>0</td>\n",
       "      <td>1</td>\n",
       "      <td>200923</td>\n",
       "      <td>1</td>\n",
       "    </tr>\n",
       "    <tr>\n",
       "      <th>4</th>\n",
       "      <td>95533</td>\n",
       "      <td>216598</td>\n",
       "      <td>41</td>\n",
       "      <td>136</td>\n",
       "      <td>0</td>\n",
       "      <td>1</td>\n",
       "      <td>18026</td>\n",
       "      <td>1</td>\n",
       "    </tr>\n",
       "    <tr>\n",
       "      <th>5</th>\n",
       "      <td>354697</td>\n",
       "      <td>51837</td>\n",
       "      <td>206</td>\n",
       "      <td>558</td>\n",
       "      <td>0</td>\n",
       "      <td>1</td>\n",
       "      <td>223302</td>\n",
       "      <td>1</td>\n",
       "    </tr>\n",
       "    <tr>\n",
       "      <th>6</th>\n",
       "      <td>154216</td>\n",
       "      <td>302905</td>\n",
       "      <td>206</td>\n",
       "      <td>136</td>\n",
       "      <td>0</td>\n",
       "      <td>1</td>\n",
       "      <td>297023</td>\n",
       "      <td>1</td>\n",
       "    </tr>\n",
       "    <tr>\n",
       "      <th>7</th>\n",
       "      <td>100200</td>\n",
       "      <td>62949</td>\n",
       "      <td>206</td>\n",
       "      <td>136</td>\n",
       "      <td>0</td>\n",
       "      <td>1</td>\n",
       "      <td>248366</td>\n",
       "      <td>1</td>\n",
       "    </tr>\n",
       "    <tr>\n",
       "      <th>8</th>\n",
       "      <td>256345</td>\n",
       "      <td>345493</td>\n",
       "      <td>187</td>\n",
       "      <td>136</td>\n",
       "      <td>0</td>\n",
       "      <td>1</td>\n",
       "      <td>148878</td>\n",
       "      <td>1</td>\n",
       "    </tr>\n",
       "    <tr>\n",
       "      <th>9</th>\n",
       "      <td>165016</td>\n",
       "      <td>36629</td>\n",
       "      <td>191</td>\n",
       "      <td>136</td>\n",
       "      <td>0</td>\n",
       "      <td>1</td>\n",
       "      <td>77196</td>\n",
       "      <td>1</td>\n",
       "    </tr>\n",
       "  </tbody>\n",
       "</table>\n",
       "</div>"
      ],
      "text/plain": [
       "      url  ip_add  geo_loc  tld  who_is  https  content  label\n",
       "0  145538  134431       41  136       0      1    94045      1\n",
       "1  126716  156408      187  136       1      1   338849      1\n",
       "2  137849  165756       67  136       0      1   198259      1\n",
       "3  241645   52651       11  276       0      1   200923      1\n",
       "4   95533  216598       41  136       0      1    18026      1\n",
       "5  354697   51837      206  558       0      1   223302      1\n",
       "6  154216  302905      206  136       0      1   297023      1\n",
       "7  100200   62949      206  136       0      1   248366      1\n",
       "8  256345  345493      187  136       0      1   148878      1\n",
       "9  165016   36629      191  136       0      1    77196      1"
      ]
     },
     "execution_count": 19,
     "metadata": {},
     "output_type": "execute_result"
    }
   ],
   "source": [
    "# apply le on categorical feature columns\n",
    "test_data[categorical_cols] =test_data[categorical_cols].apply(lambda col: le.fit_transform(col))\n",
    "test_data[categorical_cols].head(10)"
   ]
  },
  {
   "cell_type": "markdown",
   "metadata": {},
   "source": [
    "## Feature Selection"
   ]
  },
  {
   "cell_type": "code",
   "execution_count": 20,
   "metadata": {},
   "outputs": [],
   "source": [
    "# Prepare data for models\n",
    "x = train_data.drop(['label'], axis = 1)\n",
    "y = train_data['label'].values"
   ]
  },
  {
   "cell_type": "code",
   "execution_count": 21,
   "metadata": {},
   "outputs": [
    {
     "data": {
      "text/plain": [
       "(array([1.02594534e+05, 2.03101459e+07, 1.29953935e+03, 1.35921676e+04,\n",
       "        7.25503156e+01, 2.23404778e+05, 6.05473095e+04, 1.65885483e+04,\n",
       "        4.46625958e+07, 4.21028322e+08, 1.28560008e+10]),\n",
       " array([0.00000000e+000, 0.00000000e+000, 1.42340415e-284, 0.00000000e+000,\n",
       "        1.62827186e-017, 0.00000000e+000, 0.00000000e+000, 0.00000000e+000,\n",
       "        0.00000000e+000, 0.00000000e+000, 0.00000000e+000]))"
      ]
     },
     "execution_count": 21,
     "metadata": {},
     "output_type": "execute_result"
    }
   ],
   "source": [
    "chi_scores = chi2(x,y)\n",
    "chi_scores"
   ]
  },
  {
   "cell_type": "code",
   "execution_count": 22,
   "metadata": {},
   "outputs": [],
   "source": [
    "p_values = pd.Series(chi_scores[1],index = x.columns)\n",
    "p_values.sort_values(ascending = False , inplace = True)"
   ]
  },
  {
   "cell_type": "code",
   "execution_count": 23,
   "metadata": {},
   "outputs": [
    {
     "data": {
      "text/plain": [
       "<matplotlib.axes._subplots.AxesSubplot at 0x1d0612e5708>"
      ]
     },
     "execution_count": 23,
     "metadata": {},
     "output_type": "execute_result"
    },
    {
     "data": {
      "image/png": "[encoded data removed]",
      "text/plain": [
       "<Figure size 432x288 with 1 Axes>"
      ]
     },
     "metadata": {
      "needs_background": "light"
     },
     "output_type": "display_data"
    }
   ],
   "source": [
    "p_values.plot.bar()"
   ]
  },
  {
   "cell_type": "markdown",
   "metadata": {},
   "source": [
    "Having probabilty bar geo_loc is not significant"
   ]
  },
  {
   "cell_type": "code",
   "execution_count": 24,
   "metadata": {},
   "outputs": [],
   "source": [
    "train_data=train_data.drop(columns='geo_loc')\n",
    "test_data=test_data.drop(columns='geo_loc')"
   ]
  },
  {
   "cell_type": "code",
   "execution_count": 25,
   "metadata": {},
   "outputs": [],
   "source": [
    "X_train= train_data.drop(columns='label')\n",
    "y_train=train_data['label']\n",
    "X_test= test_data.drop(columns='label')\n",
    "y_test=test_data['label']"
   ]
  },
  {
   "cell_type": "markdown",
   "metadata": {},
   "source": [
    "### Class Balancing"
   ]
  },
  {
   "cell_type": "code",
   "execution_count": 26,
   "metadata": {},
   "outputs": [],
   "source": [
    "sm = SMOTE(random_state=2)"
   ]
  },
  {
   "cell_type": "code",
   "execution_count": 27,
   "metadata": {},
   "outputs": [
    {
     "name": "stdout",
     "output_type": "stream",
     "text": [
      "Before OverSampling, counts of label '1': 1172747\n",
      "Before OverSampling, counts of label '0': 27253 \n",
      "\n"
     ]
    }
   ],
   "source": [
    "print(\"Before OverSampling, counts of label '1': {}\".format(sum(y_train==1)))\n",
    "print(\"Before OverSampling, counts of label '0': {} \\n\".format(sum(y_train==0)))"
   ]
  },
  {
   "cell_type": "code",
   "execution_count": 28,
   "metadata": {},
   "outputs": [],
   "source": [
    "X_train_res, y_train_res = sm.fit_sample(X_train, y_train.ravel())"
   ]
  },
  {
   "cell_type": "code",
   "execution_count": 29,
   "metadata": {},
   "outputs": [
    {
     "name": "stdout",
     "output_type": "stream",
     "text": [
      "After OverSampling, the shape of train_X: (2345494, 10)\n",
      "After OverSampling, the shape of train_y: (2345494,) \n",
      "\n"
     ]
    }
   ],
   "source": [
    "print('After OverSampling, the shape of train_X: {}'.format(X_train_res.shape))\n",
    "print('After OverSampling, the shape of train_y: {} \\n'.format(y_train_res.shape))"
   ]
  },
  {
   "cell_type": "code",
   "execution_count": 30,
   "metadata": {},
   "outputs": [
    {
     "name": "stdout",
     "output_type": "stream",
     "text": [
      "After OverSampling, counts of label '1': 1172747\n",
      "After OverSampling, counts of label '0': 1172747\n"
     ]
    }
   ],
   "source": [
    "print(\"After OverSampling, counts of label '1': {}\".format(sum(y_train_res==1)))\n",
    "print(\"After OverSampling, counts of label '0': {}\".format(sum(y_train_res==0)))"
   ]
  },
  {
   "cell_type": "code",
   "execution_count": 31,
   "metadata": {},
   "outputs": [
    {
     "name": "stdout",
     "output_type": "stream",
     "text": [
      "Before OverSampling, counts of label '1': 353872\n",
      "Before OverSampling, counts of label '0': 8062 \n",
      "\n"
     ]
    }
   ],
   "source": [
    "print(\"Before OverSampling, counts of label '1': {}\".format(sum(y_test==1)))\n",
    "print(\"Before OverSampling, counts of label '0': {} \\n\".format(sum(y_test==0)))"
   ]
  },
  {
   "cell_type": "code",
   "execution_count": 32,
   "metadata": {},
   "outputs": [],
   "source": [
    "X_test_res, y_test_res = sm.fit_sample(X_test, y_test.ravel())"
   ]
  },
  {
   "cell_type": "code",
   "execution_count": 33,
   "metadata": {},
   "outputs": [
    {
     "name": "stdout",
     "output_type": "stream",
     "text": [
      "After OverSampling, the shape of train_X: (707744, 10)\n",
      "After OverSampling, the shape of train_y: (707744,) \n",
      "\n"
     ]
    }
   ],
   "source": [
    "print('After OverSampling, the shape of train_X: {}'.format(X_test_res.shape))\n",
    "print('After OverSampling, the shape of train_y: {} \\n'.format(y_test_res.shape))"
   ]
  },
  {
   "cell_type": "code",
   "execution_count": 34,
   "metadata": {},
   "outputs": [
    {
     "name": "stdout",
     "output_type": "stream",
     "text": [
      "After OverSampling, counts of label '1': 353872\n",
      "After OverSampling, counts of label '0': 353872\n"
     ]
    }
   ],
   "source": [
    "print(\"After OverSampling, counts of label '1': {}\".format(sum(y_test_res==1)))\n",
    "print(\"After OverSampling, counts of label '0': {}\".format(sum(y_test_res==0)))"
   ]
  },
  {
   "cell_type": "code",
   "execution_count": 35,
   "metadata": {},
   "outputs": [],
   "source": [
    "X_train= X_train_res\n",
    "y_train=y_train_res\n",
    "X_test= X_test_res\n",
    "y_test=y_test_res"
   ]
  },
  {
   "cell_type": "code",
   "execution_count": 36,
   "metadata": {},
   "outputs": [],
   "source": [
    "score=pd.DataFrame()"
   ]
  },
  {
   "cell_type": "markdown",
   "metadata": {},
   "source": [
    "## Deep Q Network"
   ]
  },
  {
   "cell_type": "code",
   "execution_count": 37,
   "metadata": {},
   "outputs": [],
   "source": [
    "# Setting data \n",
    "num_data = len(X_train)\n",
    "neural=MLPClassifier(hidden_layer_sizes=(12,12,12,12), activation='relu', solver='adam', max_iter=500)\n",
    "neural.fit(X_train,y_train)\n",
    "#Set Reward\n",
    "def getReward(accuracy):\n",
    "    if accuracy>=0.95:\n",
    "        return 10\n",
    "    else: \n",
    "        return 0  "
   ]
  },
  {
   "cell_type": "code",
   "execution_count": 38,
   "metadata": {},
   "outputs": [],
   "source": [
    "#Q Matrix for q-netwrok\n",
    "Q = np.matrix(np.zeros([1]))\n",
    "\n",
    "#Training the model with provided dataset\n",
    "def generateQ(x,y):\n",
    "        reward=0\n",
    "        ypred=neural.predict(x)\n",
    "        acc=accuracy_score(y,ypred)\n",
    "        f1=f1_score(y,ypred)\n",
    "        ps= precision_score(y, ypred, average='weighted', labels=np.unique(ypred))\n",
    "        reward=getReward(acc)+reward\n",
    "        Q=[acc,f1,ps]\n",
    "        return Q,reward"
   ]
  },
  {
   "cell_type": "code",
   "execution_count": 39,
   "metadata": {},
   "outputs": [
    {
     "name": "stdout",
     "output_type": "stream",
     "text": [
      "Q is [0.7451095590097437, 0.6713141846794642, 0.8070127004037683]\n",
      "reward is  0\n"
     ]
    }
   ],
   "source": [
    "Q,reward = generateQ(X_train,y_train)\n",
    "print(\"Q is\",Q)\n",
    "print(\"reward is \", reward)"
   ]
  },
  {
   "cell_type": "code",
   "execution_count": 40,
   "metadata": {},
   "outputs": [
    {
     "data": {
      "text/plain": [
       "0.7451095590097437"
      ]
     },
     "execution_count": 40,
     "metadata": {},
     "output_type": "execute_result"
    }
   ],
   "source": [
    "# Accuracy of deep Q networking with training data\n",
    "deepQAcc = Q[0]\n",
    "deepQAcc"
   ]
  },
  {
   "cell_type": "code",
   "execution_count": 41,
   "metadata": {},
   "outputs": [
    {
     "data": {
      "text/plain": [
       "0.6713141846794642"
      ]
     },
     "execution_count": 41,
     "metadata": {},
     "output_type": "execute_result"
    }
   ],
   "source": [
    "# F1-Score of deep Q networking with training data\n",
    "deepQF1 = Q[1]\n",
    "deepQF1"
   ]
  },
  {
   "cell_type": "code",
   "execution_count": 42,
   "metadata": {},
   "outputs": [
    {
     "data": {
      "text/plain": [
       "0.8070127004037683"
      ]
     },
     "execution_count": 42,
     "metadata": {},
     "output_type": "execute_result"
    }
   ],
   "source": [
    "# Precision Score of deep Q networking with training data\n",
    "deepQPrec = Q[2]\n",
    "deepQPrec"
   ]
  },
  {
   "cell_type": "code",
   "execution_count": 43,
   "metadata": {},
   "outputs": [
    {
     "name": "stdout",
     "output_type": "stream",
     "text": [
      "Q is [0.7450928584346882, 0.6727778936581207, 0.8045986185059568]\n",
      "reward is  0\n"
     ]
    }
   ],
   "source": [
    "# Testing the Deep Q network model\n",
    "Q,reward = generateQ(X_test,y_test)\n",
    "print(\"Q is\",Q)\n",
    "print(\"reward is \", reward)"
   ]
  },
  {
   "cell_type": "code",
   "execution_count": 44,
   "metadata": {},
   "outputs": [
    {
     "data": {
      "text/plain": [
       "0.7450928584346882"
      ]
     },
     "execution_count": 44,
     "metadata": {},
     "output_type": "execute_result"
    }
   ],
   "source": [
    "# Accuracy of deep Q networking with test data\n",
    "deepQAcc = Q[0]\n",
    "deepQAcc"
   ]
  },
  {
   "cell_type": "code",
   "execution_count": 45,
   "metadata": {},
   "outputs": [
    {
     "data": {
      "text/plain": [
       "0.6727778936581207"
      ]
     },
     "execution_count": 45,
     "metadata": {},
     "output_type": "execute_result"
    }
   ],
   "source": [
    "# F1-Score of deep Q networking with test data\n",
    "deepQF1 = Q[1]\n",
    "deepQF1"
   ]
  },
  {
   "cell_type": "code",
   "execution_count": 46,
   "metadata": {},
   "outputs": [
    {
     "data": {
      "text/plain": [
       "0.8045986185059568"
      ]
     },
     "execution_count": 46,
     "metadata": {},
     "output_type": "execute_result"
    }
   ],
   "source": [
    "# Precision Score of deep Q networking with test data\n",
    "deepQPrec = Q[2]\n",
    "deepQPrec"
   ]
  },
  {
   "cell_type": "code",
   "execution_count": 47,
   "metadata": {},
   "outputs": [],
   "source": [
    "score= score.append([[\"Deep Q-Network\",deepQAcc,deepQF1,deepQPrec]])"
   ]
  },
  {
   "cell_type": "markdown",
   "metadata": {},
   "source": [
    "### Random Forest Trees"
   ]
  },
  {
   "cell_type": "code",
   "execution_count": 48,
   "metadata": {},
   "outputs": [
    {
     "data": {
      "text/plain": [
       "RandomForestClassifier(n_estimators=10)"
      ]
     },
     "execution_count": 48,
     "metadata": {},
     "output_type": "execute_result"
    }
   ],
   "source": [
    "#initialising Random forest classifier\n",
    "rfc=RandomForestClassifier(n_estimators=10)\n",
    "rfc.fit(X_train,y_train)"
   ]
  },
  {
   "cell_type": "code",
   "execution_count": 49,
   "metadata": {},
   "outputs": [],
   "source": [
    "# Predicting \n",
    "ypred=rfc.predict(X_test)"
   ]
  },
  {
   "cell_type": "code",
   "execution_count": 50,
   "metadata": {},
   "outputs": [],
   "source": [
    "# generating accuracy score\n",
    "acc=accuracy_score(y_test,ypred)"
   ]
  },
  {
   "cell_type": "code",
   "execution_count": 51,
   "metadata": {},
   "outputs": [],
   "source": [
    "# generating f1 score\n",
    "f1=f1_score(y_test,ypred)"
   ]
  },
  {
   "cell_type": "code",
   "execution_count": 52,
   "metadata": {},
   "outputs": [],
   "source": [
    "# generating precision score\n",
    "ps= precision_score(y_test, ypred, average='weighted')"
   ]
  },
  {
   "cell_type": "code",
   "execution_count": 53,
   "metadata": {},
   "outputs": [],
   "source": [
    "score= score.append([[\"Random Forest Trees\",acc,f1,ps]])"
   ]
  },
  {
   "cell_type": "markdown",
   "metadata": {},
   "source": [
    "## Support Vector Machine"
   ]
  },
  {
   "cell_type": "code",
   "execution_count": null,
   "metadata": {},
   "outputs": [],
   "source": [
    "#initialising SVM\n",
    "svm= make_pipeline(StandardScaler(), SVC(kernel=\"linear\",gamma='scale'))\n",
    "svm.fit(X_train,y_train)"
   ]
  },
  {
   "cell_type": "code",
   "execution_count": null,
   "metadata": {},
   "outputs": [],
   "source": [
    "# Predicting \n",
    "ypred=svm.predict(X_test)"
   ]
  },
  {
   "cell_type": "code",
   "execution_count": null,
   "metadata": {},
   "outputs": [],
   "source": [
    "# generating accuracy score\n",
    "acc=accuracy_score(y_test,ypred)"
   ]
  },
  {
   "cell_type": "code",
   "execution_count": null,
   "metadata": {},
   "outputs": [],
   "source": [
    "# generating f1 score\n",
    "f1=f1_score(y_test,ypred)"
   ]
  },
  {
   "cell_type": "code",
   "execution_count": null,
   "metadata": {},
   "outputs": [],
   "source": [
    "# generating precision score\n",
    "ps= precision_score(y_test, ypred, average='weighted')"
   ]
  },
  {
   "cell_type": "code",
   "execution_count": null,
   "metadata": {},
   "outputs": [],
   "source": [
    "score= score.append([[\"Support Vector Machine\",acc,f1,ps]])"
   ]
  },
  {
   "cell_type": "markdown",
   "metadata": {},
   "source": [
    "## Naive Bayes"
   ]
  },
  {
   "cell_type": "code",
   "execution_count": null,
   "metadata": {},
   "outputs": [],
   "source": [
    "gnb = GaussianNB()"
   ]
  },
  {
   "cell_type": "code",
   "execution_count": null,
   "metadata": {},
   "outputs": [],
   "source": [
    "ypred = gnb.fit(X_train, y_train).predict(X_test)"
   ]
  },
  {
   "cell_type": "code",
   "execution_count": null,
   "metadata": {},
   "outputs": [],
   "source": [
    "# generating accuracy score\n",
    "acc=accuracy_score(y_test,ypred)"
   ]
  },
  {
   "cell_type": "code",
   "execution_count": null,
   "metadata": {},
   "outputs": [],
   "source": [
    "# generating f1 score\n",
    "f1=f1_score(y_test,ypred)"
   ]
  },
  {
   "cell_type": "code",
   "execution_count": null,
   "metadata": {},
   "outputs": [],
   "source": [
    "# generating precision score\n",
    "ps= precision_score(y_test, ypred, average='weighted')"
   ]
  },
  {
   "cell_type": "code",
   "execution_count": null,
   "metadata": {},
   "outputs": [],
   "source": [
    "score= score.append([[\"Naive Bayes\",acc,f1,ps]])"
   ]
  },
  {
   "cell_type": "markdown",
   "metadata": {},
   "source": [
    "## Comparitive Analysis"
   ]
  },
  {
   "cell_type": "code",
   "execution_count": null,
   "metadata": {},
   "outputs": [],
   "source": [
    "score.columns=[\"Model\",\"Accuracy\",\"F1 Score\",\"Precision Score\"]\n",
    "score"
   ]
  },
  {
   "cell_type": "code",
   "execution_count": null,
   "metadata": {},
   "outputs": [],
   "source": [
    "X = np.arange(4)\n",
    "fig = plt.figure()\n",
    "ax = fig.add_axes([0,0,1,1])\n",
    "ax.bar(X + 0.00, score[\"Accuracy\"], color = 'b', width = 0.25)\n",
    "ax.bar(X + 0.25, score[\"F1 Score\"], color = 'g', width = 0.25)\n",
    "ax.bar(X + 0.50, score[\"Precision Score\"], color = 'r', width = 0.25)"
   ]
  },
  {
   "cell_type": "code",
   "execution_count": null,
   "metadata": {},
   "outputs": [],
   "source": []
  },
  {
   "cell_type": "code",
   "execution_count": null,
   "metadata": {},
   "outputs": [],
   "source": []
  }
 ],
 "metadata": {
  "kernelspec": {
   "display_name": "Python 3",
   "language": "python",
   "name": "python3"
  },
  "language_info": {
   "codemirror_mode": {
    "name": "ipython",
    "version": 3
   },
   "file_extension": ".py",
   "mimetype": "text/x-python",
   "name": "python",
   "nbconvert_exporter": "python",
   "pygments_lexer": "ipython3",
   "version": "3.7.6"
  }
 },
 "nbformat": 4,
 "nbformat_minor": 4
}
